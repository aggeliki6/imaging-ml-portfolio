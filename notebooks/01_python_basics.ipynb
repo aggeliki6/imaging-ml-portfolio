{
 "cells": [
  {
   "cell_type": "code",
   "execution_count": 1,
   "id": "543d5428",
   "metadata": {},
   "outputs": [],
   "source": [
    "# Day 1: Python Basics Refresher\n",
    "# Author: Angela\n",
    "# Date: 2025-09-29\n",
    "\n",
    "import numpy as np\n",
    "import matplotlib.pyplot as plt"
   ]
  },
  {
   "cell_type": "code",
   "execution_count": 3,
   "id": "cfea92b4",
   "metadata": {},
   "outputs": [
    {
     "name": "stdout",
     "output_type": "stream",
     "text": [
      "(np.float64(3.0), np.float64(1.4142135623730951))\n"
     ]
    }
   ],
   "source": [
    "# write a dunction that takes a list of numbers and returns the mean and standard deviation using numpy\n",
    "\n",
    "def describe_numbers(numbers):\n",
    "    arr = np.array(numbers)\n",
    "    mean = np.mean(arr)\n",
    "    std = np.std(arr)\n",
    "    return mean, std\n",
    "\n",
    "# test\n",
    "nums = [1, 2, 3, 4, 5]\n",
    "print(describe_numbers(nums))"
   ]
  }
 ],
 "metadata": {
  "kernelspec": {
   "display_name": "mlenv",
   "language": "python",
   "name": "python3"
  },
  "language_info": {
   "codemirror_mode": {
    "name": "ipython",
    "version": 3
   },
   "file_extension": ".py",
   "mimetype": "text/x-python",
   "name": "python",
   "nbconvert_exporter": "python",
   "pygments_lexer": "ipython3",
   "version": "3.10.18"
  }
 },
 "nbformat": 4,
 "nbformat_minor": 5
}
